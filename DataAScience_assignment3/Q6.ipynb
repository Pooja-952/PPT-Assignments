{
 "cells": [
  {
   "cell_type": "markdown",
   "id": "7e174d33-be7b-403c-b040-7a08fec81f7a",
   "metadata": {},
   "source": [
    "### 6. Scenario: A company wants to analyze the relationship between advertising expenditure and sales. The data collected is as follows:\n",
    "   \n",
    "    Advertising Expenditure (in thousands): [10, 15, 12, 8, 14]\n",
    "    \n",
    "   Sales (in thousands): [25, 30, 28, 20, 26]\n",
    "\n",
    "   Calculate the correlation coefficient between advertising expenditure and sales."
   ]
  },
  {
   "cell_type": "markdown",
   "id": "95dcf5fb-9270-4836-9c69-7b87744eef95",
   "metadata": {},
   "source": [
    "### To calculate the correlation coefficient between advertising expenditure and sales, we can use the provided data and calculate the correlation coefficient using a formula. The correlation coefficient measures the strength and direction of the linear relationship between two variables.\n",
    "\n",
    "The data collected is as follows:\n",
    "Advertising Expenditure (in thousands): [10, 15, 12, 8, 14]\n",
    "Sales (in thousands): [25, 30, 28, 20, 26]\n",
    "\n",
    "Let's calculate the correlation coefficient using the following steps:\n",
    "\n",
    "Step 1: Calculate the means of the advertising expenditure and sales.\n",
    "mean(Advertising Expenditure) = (10 + 15 + 12 + 8 + 14) / 5 = 59 / 5 = 11.8\n",
    "mean(Sales) = (25 + 30 + 28 + 20 + 26) / 5 = 129 / 5 = 25.8\n",
    "\n",
    "Step 2: Calculate the deviations from the means for both variables.\n",
    "deviation(Advertising Expenditure) = [10 - 11.8, 15 - 11.8, 12 - 11.8, 8 - 11.8, 14 - 11.8]\n",
    "= [-1.8, 3.2, 0.2, -3.8, 2.2]\n",
    "deviation(Sales) = [25 - 25.8, 30 - 25.8, 28 - 25.8, 20 - 25.8, 26 - 25.8]\n",
    "= [-0.8, 4.2, 2.2, -5.8, 0.2]\n",
    "\n",
    "Step 3: Calculate the sum of the products of the deviations.\n",
    "sum_of_products = (-1.8 * -0.8) + (3.2 * 4.2) + (0.2 * 2.2) + (-3.8 * -5.8) + (2.2 * 0.2)\n",
    "= 1.44 + 13.44 + 0.44 + 22.04 + 0.44\n",
    "= 37.8\n",
    "\n",
    "Step 4: Calculate the sum of the squared deviations for both variables.\n",
    "sum_of_squared_deviations(Advertising Expenditure) = (-1.8)^2 + (3.2)^2 + (0.2)^2 + (-3.8)^2 + (2.2)^2\n",
    "= 3.24 + 10.24 + 0.04 + 14.44 + 4.84\n",
    "= 32.8\n",
    "sum_of_squared_deviations(Sales) = (-0.8)^2 + (4.2)^2 + (2.2)^2 + (-5.8)^2 + (0.2)^2\n",
    "= 0.64 + 17.64 + 4.84 + 33.64 + 0.04\n",
    "= 57.8\n",
    "\n",
    "Step 5: Calculate the square root of the product of the sum of squared deviations.\n",
    "sqrt(sum_of_squared_deviations(Advertising Expenditure) * sum_of_squared_deviations(Sales))\n",
    "= sqrt(32.8 * 57.8)\n",
    "= sqrt(1895.04)\n",
    "≈ 43.52\n",
    "\n",
    "Step 6: Calculate the correlation coefficient.\n",
    "correlation_coefficient = sum_of_products / (sqrt(sum_of_squared_deviations(Advertising Expenditure) * sum_of_squared_deviations(Sales)))\n",
    "= 37.8 / 43.52\n",
    "≈ 0.87\n",
    "\n",
    "Therefore, the correlation coefficient between advertising expenditure and sales is approximately 0.87. The positive value indicates a strong positive linear relationship between the two variables, suggesting that as advertising expenditure increases, sales tend to increase as well."
   ]
  },
  {
   "cell_type": "code",
   "execution_count": null,
   "id": "204b10b9-1512-4764-b595-bf3c93498630",
   "metadata": {},
   "outputs": [],
   "source": []
  }
 ],
 "metadata": {
  "kernelspec": {
   "display_name": "Python 3 (ipykernel)",
   "language": "python",
   "name": "python3"
  },
  "language_info": {
   "codemirror_mode": {
    "name": "ipython",
    "version": 3
   },
   "file_extension": ".py",
   "mimetype": "text/x-python",
   "name": "python",
   "nbconvert_exporter": "python",
   "pygments_lexer": "ipython3",
   "version": "3.10.6"
  }
 },
 "nbformat": 4,
 "nbformat_minor": 5
}
