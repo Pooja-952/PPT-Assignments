{
 "cells": [
  {
   "cell_type": "markdown",
   "id": "0aa4553c-ec5b-4250-aa56-80ffe35d6f37",
   "metadata": {},
   "source": [
    "### \n",
    "16. Scenario: A company wants to analyze the distribution of customer ages. The data collected is as follows:\n",
    "\n",
    "    [25, 30, 35, 40, 45, 50, 55, 60, 65, 70]\n",
    "    \n",
    "    Calculate the interquartile range (IQR) of the ages."
   ]
  },
  {
   "cell_type": "markdown",
   "id": "d2a8d590-84cd-4f2c-a1cd-2845c607a508",
   "metadata": {},
   "source": [
    "### To calculate the interquartile range (IQR) of the ages, we need to find the range between the 75th percentile (upper quartile) and the 25th percentile (lower quartile) of the data. The IQR provides a measure of the spread or dispersion of the data within the middle 50% of the distribution.\n",
    "\n",
    "The data collected for customer ages is as follows:\n",
    "[25, 30, 35, 40, 45, 50, 55, 60, 65, 70]\n",
    "\n",
    "Let's calculate the IQR using the following steps:\n",
    "\n",
    "Step 1: Sort the ages in ascending order: [25, 30, 35, 40, 45, 50, 55, 60, 65, 70]\n",
    "\n",
    "Step 2: Calculate the position of the lower quartile (Q1) and upper quartile (Q3) using the formulas:\n",
    "position = (percentile / 100) * (total number of ages + 1)\n",
    "Q1 position = (25 / 100) * (10 + 1) = 2.75\n",
    "Q3 position = (75 / 100) * (10 + 1) = 8.25\n",
    "\n",
    "Step 3: Identify the ages at positions Q1 and Q3:\n",
    "Q1 = value at position 2 = 30\n",
    "Q3 = value at position 8 = 60\n",
    "\n",
    "Step 4: Calculate the IQR as the difference between Q3 and Q1:\n",
    "IQR = Q3 - Q1 = 60 - 30 = 30\n",
    "\n",
    "Therefore, the interquartile range (IQR) of the ages is 30. This means that the middle 50% of the ages in the dataset ranges from 30 to 60, indicating the spread of ages within this range."
   ]
  },
  {
   "cell_type": "code",
   "execution_count": null,
   "id": "e7691609-4779-4b04-aa99-24928d0c5b04",
   "metadata": {},
   "outputs": [],
   "source": []
  }
 ],
 "metadata": {
  "kernelspec": {
   "display_name": "Python 3 (ipykernel)",
   "language": "python",
   "name": "python3"
  },
  "language_info": {
   "codemirror_mode": {
    "name": "ipython",
    "version": 3
   },
   "file_extension": ".py",
   "mimetype": "text/x-python",
   "name": "python",
   "nbconvert_exporter": "python",
   "pygments_lexer": "ipython3",
   "version": "3.10.6"
  }
 },
 "nbformat": 4,
 "nbformat_minor": 5
}
