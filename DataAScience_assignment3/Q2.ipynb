{
 "cells": [
  {
   "cell_type": "markdown",
   "id": "d7d21eb3-cfff-4c9d-b052-3bae61f72fad",
   "metadata": {},
   "source": [
    "### 2. Scenario: A survey is conducted to measure customer satisfaction on a scale of 1 to 5. The data collected is as follows:\n",
    "   \n",
    "    [4, 5, 2, 3, 5, 4, 3, 2, 4, 5]\n",
    "  \n",
    "Calculate the mode of the survey responses.\n"
   ]
  },
  {
   "cell_type": "markdown",
   "id": "8c0a6df7-4fb7-416f-9f63-8f77dcf3ca6d",
   "metadata": {},
   "source": [
    "### To calculate the mode of the survey responses, we need to determine the value(s) that appear most frequently in the dataset. The mode represents the most common value(s) in a set of data.\n",
    "\n",
    "The survey responses collected are as follows: [4, 5, 2, 3, 5, 4, 3, 2, 4, 5]\n",
    "\n",
    "Let's count the occurrences of each value in the dataset:\n",
    "\n",
    "The value 2 appears twice.\n",
    "The value 3 appears twice.\n",
    "The value 4 appears three times.\n",
    "The value 5 appears three times.\n",
    "As we can see, both the values 4 and 5 occur the most frequently, with a count of three each. Therefore, in this dataset, the mode(s) of the survey responses are 4 and 5.\n",
    "\n",
    "It's worth noting that there can be multiple modes or no mode at all if all values have the same frequency. In this case, we have two modes, indicating that the most common survey response options were 4 and 5."
   ]
  },
  {
   "cell_type": "code",
   "execution_count": null,
   "id": "afd1075f-b38d-4985-8e23-dbda9be6e512",
   "metadata": {},
   "outputs": [],
   "source": []
  }
 ],
 "metadata": {
  "kernelspec": {
   "display_name": "Python 3 (ipykernel)",
   "language": "python",
   "name": "python3"
  },
  "language_info": {
   "codemirror_mode": {
    "name": "ipython",
    "version": 3
   },
   "file_extension": ".py",
   "mimetype": "text/x-python",
   "name": "python",
   "nbconvert_exporter": "python",
   "pygments_lexer": "ipython3",
   "version": "3.10.6"
  }
 },
 "nbformat": 4,
 "nbformat_minor": 5
}
