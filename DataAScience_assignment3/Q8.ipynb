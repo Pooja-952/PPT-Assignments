{
 "cells": [
  {
   "cell_type": "markdown",
   "id": "d0294779-a568-4dcc-9a1a-d6a0036fa0cb",
   "metadata": {},
   "source": [
    "### 8. Scenario: A company wants to analyze the relationship between employee tenure and job satisfaction. The data collected is as follows:\n",
    "   \n",
    "    Employee Tenure (in years): [2, 3, 5, 4, 6, 2, 4]\n",
    "   \n",
    "Job Satisfaction (on a scale of 1 to 10): [7, 8, 6, 9, 5, 7, 6]\n",
    "   \n",
    "    Perform a linear regression analysis to predict job satisfaction based on employee tenure."
   ]
  },
  {
   "cell_type": "markdown",
   "id": "bf5b6ff7-8cd2-4816-8338-a470a906b6fa",
   "metadata": {},
   "source": [
    "### To perform a linear regression analysis to predict job satisfaction based on employee tenure, we can use the collected data and calculate the regression coefficients. Linear regression aims to find the best-fit line that represents the relationship between two variables.\n",
    "\n",
    "The data collected is as follows:\n",
    "Employee Tenure (in years): [2, 3, 5, 4, 6, 2, 4]\n",
    "Job Satisfaction (on a scale of 1 to 10): [7, 8, 6, 9, 5, 7, 6]\n",
    "\n",
    "To start the analysis, we'll assign the employee tenure data to the independent variable (x) and the job satisfaction data to the dependent variable (y). Then, we'll calculate the regression coefficients: the slope (b1) and the intercept (b0) for the best-fit line.\n",
    "\n",
    "Step 1: Calculate the means of x and y:\n",
    "mean(x) = (2 + 3 + 5 + 4 + 6 + 2 + 4) / 7 = 26 / 7 ≈ 3.71\n",
    "mean(y) = (7 + 8 + 6 + 9 + 5 + 7 + 6) / 7 = 48 / 7 ≈ 6.86\n",
    "\n",
    "Step 2: Calculate the deviations from the mean for x and y:\n",
    "deviation(x) = [2 - 3.71, 3 - 3.71, 5 - 3.71, 4 - 3.71, 6 - 3.71, 2 - 3.71, 4 - 3.71]\n",
    "= [-1.71, -0.71, 1.29, 0.29, 2.29, -1.71, 0.29]\n",
    "deviation(y) = [7 - 6.86, 8 - 6.86, 6 - 6.86, 9 - 6.86, 5 - 6.86, 7 - 6.86, 6 - 6.86]\n",
    "= [0.14, 1.14, -0.86, 2.14, -1.86, 0.14, -0.86]\n",
    "\n",
    "Step 3: Calculate the sum of the products of deviations:\n",
    "sum_of_products = (-1.71 * 0.14) + (-0.71 * 1.14) + (1.29 * -0.86) + (0.29 * 2.14) + (2.29 * -1.86) + (-1.71 * 0.14) + (0.29 * -0.86)\n",
    "= -0.2394 + (-0.8094) + (-1.1106) + (0.6206) + (-4.2546) + (-0.2394) + (-0.2494)\n",
    "= -6.0338\n",
    "\n",
    "Step 4: Calculate the sum of the squared deviations for x:\n",
    "sum_of_squared_deviations(x) = (-1.71)^2 + (-0.71)^2 + (1.29)^2 + (0.29)^2 + (2.29)^2 + (-1.71)^2 + (0.29)^2\n",
    "= 2.9241 + 0.5041 + 1.6641 + 0.0841 + 5.2441 + 2.9241 + 0.0841\n",
    "= 13.4347\n",
    "\n",
    "Step 5: Calculate the regression coefficient (b1):\n",
    "b1 = sum_of_products / sum_of_squared_deviations(x)\n",
    "= -6.0338 / 13.4347\n",
    "≈ -0.4498\n",
    "\n",
    "Step 6: Calculate the intercept (b0):\n",
    "b0 = mean(y) - b1 * mean(x)\n",
    "= 6.86 - (-0.4498 * 3.71)\n",
    "= 6.86 + 1.6668\n",
    "≈ 8.5268\n",
    "\n",
    "Therefore, the linear regression equation to predict job satisfaction based on employee tenure is approximately:\n",
    "Job Satisfaction = 8.5268 - 0.4498 * Employee Tenure\n",
    "\n",
    "This equation indicates that for each additional year of employee tenure, job satisfaction is expected to decrease by approximately 0.4498 points. The intercept (8.5268) represents the estimated job satisfaction when the employee tenure is 0 (which is not practically meaningful in this case)."
   ]
  },
  {
   "cell_type": "code",
   "execution_count": null,
   "id": "8bc657bc-6db1-4b09-8e87-2517b768400f",
   "metadata": {},
   "outputs": [],
   "source": []
  }
 ],
 "metadata": {
  "kernelspec": {
   "display_name": "Python 3 (ipykernel)",
   "language": "python",
   "name": "python3"
  },
  "language_info": {
   "codemirror_mode": {
    "name": "ipython",
    "version": 3
   },
   "file_extension": ".py",
   "mimetype": "text/x-python",
   "name": "python",
   "nbconvert_exporter": "python",
   "pygments_lexer": "ipython3",
   "version": "3.10.6"
  }
 },
 "nbformat": 4,
 "nbformat_minor": 5
}
