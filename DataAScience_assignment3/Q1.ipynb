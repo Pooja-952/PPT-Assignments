{
 "cells": [
  {
   "cell_type": "markdown",
   "id": "7104c58d-6717-43c8-a304-f7c459facaea",
   "metadata": {},
   "source": [
    "### 1. Scenario: A company wants to analyze the sales performance of its products in different regions. They have collected the following data:\n",
    "   \n",
    "   Region A: [10, 15, 12, 8, 14]\n",
    "   \n",
    "   Region B: [18, 20, 16, 22, 25]\n",
    "   \n",
    "   Calculate the mean sales for each region.\n"
   ]
  },
  {
   "cell_type": "markdown",
   "id": "c2912709-59ac-41b1-983c-334b1f7dd0bd",
   "metadata": {},
   "source": [
    "### To calculate the mean sales for each region, you need to find the average of the sales data in each region. The mean, also known as the average, is calculated by summing up all the values and dividing by the total number of values.\n",
    "\n",
    "Let's calculate the mean sales for each region using the provided data:\n",
    "\n",
    "Region A: [10, 15, 12, 8, 14]\n",
    "\n",
    "To find the mean, we sum up all the values in the list and divide by the total number of values:\n",
    "\n",
    "Mean sales in Region A = (10 + 15 + 12 + 8 + 14) / 5\n",
    "= 59 / 5\n",
    "= 11.8\n",
    "\n",
    "So, the mean sales in Region A is 11.8.\n",
    "\n",
    "Region B: [18, 20, 16, 22, 25]\n",
    "\n",
    "Similarly, for Region B, we calculate the mean as:\n",
    "\n",
    "Mean sales in Region B = (18 + 20 + 16 + 22 + 25) / 5\n",
    "= 101 / 5\n",
    "= 20.2\n",
    "\n",
    "Thus, the mean sales in Region B is 20.2.\n",
    "\n",
    "Therefore, the mean sales for each region are as follows:\n",
    "\n",
    "Region A: 11.8\n",
    "Region B: 20.2"
   ]
  },
  {
   "cell_type": "code",
   "execution_count": null,
   "id": "0d6f088b-7fc4-4300-bbd4-cd148559b73f",
   "metadata": {},
   "outputs": [],
   "source": []
  }
 ],
 "metadata": {
  "kernelspec": {
   "display_name": "Python 3 (ipykernel)",
   "language": "python",
   "name": "python3"
  },
  "language_info": {
   "codemirror_mode": {
    "name": "ipython",
    "version": 3
   },
   "file_extension": ".py",
   "mimetype": "text/x-python",
   "name": "python",
   "nbconvert_exporter": "python",
   "pygments_lexer": "ipython3",
   "version": "3.10.6"
  }
 },
 "nbformat": 4,
 "nbformat_minor": 5
}
