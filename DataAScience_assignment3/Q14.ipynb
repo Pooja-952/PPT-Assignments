{
 "cells": [
  {
   "cell_type": "markdown",
   "id": "e2b5a2f3-0cb9-4c9c-a862-e1c12107b050",
   "metadata": {},
   "source": [
    "### 14. Scenario: A company wants to analyze the effect of temperature on product performance. The data collected is as follows:\n",
    "    \n",
    "    Temperature (in degrees Celsius): [20, 22, 23, 19, 21]\n",
    "    \n",
    "    Performance (on a scale of 1 to 10): [8, 7, 9, 6, 8]\n",
    "    \n",
    "    Perform a simple linear regression to predict performance based on temperature."
   ]
  },
  {
   "cell_type": "code",
   "execution_count": null,
   "id": "07494bbb-d4e4-4bb0-89b5-876adaad7bd1",
   "metadata": {},
   "outputs": [],
   "source": [
    "### To perform a simple linear regression to predict performance based on temperature, we can use the provided data and apply the linear regression analysis. Linear regression helps determine the relationship between two variables and enables us to make predictions based on the values of one variable (independent variable) for a given value of the other variable (dependent variable).\n",
    "\n",
    "The data collected is as follows:\n",
    "Temperature (in degrees Celsius): [20, 22, 23, 19, 21]\n",
    "Performance (on a scale of 1 to 10): [8, 7, 9, 6, 8]\n",
    "\n",
    "Let's perform the simple linear regression using the following steps:\n",
    "\n",
    "Step 1: Calculate the means of the temperature and performance data.\n",
    "mean(Temperature) = (20 + 22 + 23 + 19 + 21) / 5 = 105 / 5 = 21\n",
    "mean(Performance) = (8 + 7 + 9 + 6 + 8) / 5 = 38 / 5 = 7.6\n",
    "\n",
    "Step 2: Calculate the deviations from the means for both variables.\n",
    "deviation(Temperature) = [20 - 21, 22 - 21, 23 - 21, 19 - 21, 21 - 21] = [-1, 1, 2, -2, 0]\n",
    "deviation(Performance) = [8 - 7.6, 7 - 7.6, 9 - 7.6, 6 - 7.6, 8 - 7.6] = [0.4, -0.6, 1.4, -1.6, 0.4]\n",
    "\n",
    "Step 3: Calculate the sum of the products of the deviations.\n",
    "sum_of_products = (-1 * 0.4) + (1 * -0.6) + (2 * 1.4) + (-2 * -1.6) + (0 * 0.4) = -0.4 - 0.6 + 2.8 + 3.2 + 0 = 5\n",
    "\n",
    "Step 4: Calculate the sum of the squared deviations for both variables.\n",
    "sum_of_squared_deviations(Temperature) = (-1)^2 + 1^2 + 2^2 + (-2)^2 + 0^2 = 1 + 1 + 4 + 4 + 0 = 10\n",
    "sum_of_squared_deviations(Performance) = (0.4)^2 + (-0.6)^2 + (1.4)^2 + (-1.6)^2 + (0.4)^2 = 0.16 + 0.36 + 1.96 + 2.56 + 0.16 = 5.2\n",
    "\n",
    "Step 5: Calculate the slope (b):\n",
    "b = sum_of_products / sum_of_squared_deviations(Temperature)\n",
    "= 5 / 10\n",
    "= 0.5\n",
    "\n",
    "Step 6: Calculate the intercept (a):\n",
    "a = mean(Performance) - b * mean(Temperature)\n",
    "= 7.6 - 0.5 * 21\n",
    "= 7.6 - 10.5\n",
    "= -2.9\n",
    "\n",
    "Step 7: Write the regression equation:\n",
    "Performance = -2.9 + 0.5 * Temperature\n",
    "\n",
    "Therefore, the regression equation to predict performance based on temperature is:\n",
    "Performance = -2.9 + 0.5 * Temperature\n",
    "\n",
    "This equation allows us to estimate the performance value for a given temperature. For example, if the temperature is 24 degrees Celsius, we can predict the performance to be:\n",
    "Performance = -2.9 + 0.5 * 24 = -2.9 + 12 = 9.1"
   ]
  }
 ],
 "metadata": {
  "kernelspec": {
   "display_name": "Python 3 (ipykernel)",
   "language": "python",
   "name": "python3"
  },
  "language_info": {
   "codemirror_mode": {
    "name": "ipython",
    "version": 3
   },
   "file_extension": ".py",
   "mimetype": "text/x-python",
   "name": "python",
   "nbconvert_exporter": "python",
   "pygments_lexer": "ipython3",
   "version": "3.10.6"
  }
 },
 "nbformat": 4,
 "nbformat_minor": 5
}
