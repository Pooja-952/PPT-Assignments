{
 "cells": [
  {
   "cell_type": "markdown",
   "id": "4713f98f-134a-4861-9bd9-b93b942262ee",
   "metadata": {},
   "source": [
    "### 4. Scenario: A data analyst wants to determine the variability in the daily stock prices of a company. The data collected is as follows:\n",
    "   \n",
    "    [25.5, 24.8, 26.1, 25.3, 24.9]\n",
    "\n",
    "    Calculate the range of the stock prices."
   ]
  },
  {
   "cell_type": "markdown",
   "id": "4ffeb105-9551-464e-a221-dc5c88722661",
   "metadata": {},
   "source": [
    "### To calculate the range of the stock prices, you need to find the difference between the highest and lowest values in the dataset. The range provides a measure of the spread or variability in the data.\n",
    "\n",
    "The data collected for the daily stock prices of a company is as follows: [25.5, 24.8, 26.1, 25.3, 24.9]\n",
    "\n",
    "Let's calculate the range of the stock prices:\n",
    "\n",
    "Step 1: Sort the stock prices in ascending order: [24.8, 24.9, 25.3, 25.5, 26.1]\n",
    "\n",
    "Step 2: The range is the difference between the highest and lowest values.\n",
    "Range = Highest value - Lowest value\n",
    "= 26.1 - 24.8\n",
    "= 1.3\n",
    "\n",
    "Therefore, the range of the stock prices in the given dataset is 1.3."
   ]
  },
  {
   "cell_type": "code",
   "execution_count": null,
   "id": "27e43f33-6ef4-433d-9844-67d1021d3e13",
   "metadata": {},
   "outputs": [],
   "source": []
  }
 ],
 "metadata": {
  "kernelspec": {
   "display_name": "Python 3 (ipykernel)",
   "language": "python",
   "name": "python3"
  },
  "language_info": {
   "codemirror_mode": {
    "name": "ipython",
    "version": 3
   },
   "file_extension": ".py",
   "mimetype": "text/x-python",
   "name": "python",
   "nbconvert_exporter": "python",
   "pygments_lexer": "ipython3",
   "version": "3.10.6"
  }
 },
 "nbformat": 4,
 "nbformat_minor": 5
}
