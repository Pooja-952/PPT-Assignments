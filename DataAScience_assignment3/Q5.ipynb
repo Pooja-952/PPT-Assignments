{
 "cells": [
  {
   "cell_type": "markdown",
   "id": "3b0771d6-69e3-4bcc-a023-c8d15e8f9f4a",
   "metadata": {},
   "source": [
    "### 5. Scenario: A study is conducted to compare the performance of two different teaching methods. The test scores of the students in each group are as follows:\n",
    "   \n",
    "    Group A: [85, 90, 92, 88, 91]\n",
    "    \n",
    "   Group B: [82, 88, 90, 86, 87]\n",
    "\n",
    "   Perform a t-test to determine if there is a significant difference in the mean scores between the two groups."
   ]
  },
  {
   "cell_type": "markdown",
   "id": "d3fceb96-4acd-4fc7-8562-70b6baef53de",
   "metadata": {},
   "source": [
    "### To determine if there is a significant difference in the mean scores between two groups, we can perform an independent t-test. The t-test compares the means of two groups and evaluates whether the difference is statistically significant.\n",
    "\n",
    "The test scores of the students in each group are as follows:\n",
    "Group A: [85, 90, 92, 88, 91]\n",
    "Group B: [82, 88, 90, 86, 87]\n",
    "\n",
    "To perform the t-test, we'll compare the means and the variability within each group. Let's go through the steps:\n",
    "\n",
    "Step 1: Calculate the mean for each group.\n",
    "mean(Group A) = (85 + 90 + 92 + 88 + 91) / 5 = 446 / 5 = 89.2\n",
    "mean(Group B) = (82 + 88 + 90 + 86 + 87) / 5 = 433 / 5 = 86.6\n",
    "\n",
    "Step 2: Calculate the variance for each group.\n",
    "variance(Group A) = ((85 - 89.2)^2 + (90 - 89.2)^2 + (92 - 89.2)^2 + (88 - 89.2)^2 + (91 - 89.2)^2) / 4 = 5.6\n",
    "variance(Group B) = ((82 - 86.6)^2 + (88 - 86.6)^2 + (90 - 86.6)^2 + (86 - 86.6)^2 + (87 - 86.6)^2) / 4 = 3.2\n",
    "\n",
    "Step 3: Calculate the standard deviation for each group.\n",
    "standard deviation(Group A) = sqrt(variance(Group A)) = sqrt(5.6) ≈ 2.37\n",
    "standard deviation(Group B) = sqrt(variance(Group B)) = sqrt(3.2) ≈ 1.79\n",
    "\n",
    "Step 4: Calculate the pooled standard deviation.\n",
    "pooled standard deviation = sqrt(((n1 - 1) * (standard deviation(Group A))^2 + (n2 - 1) * (standard deviation(Group B))^2) / (n1 + n2 - 2))\n",
    "= sqrt(((5 - 1) * (2.37)^2 + (5 - 1) * (1.79)^2) / (5 + 5 - 2))\n",
    "≈ sqrt((4 * 5.61 + 4 * 3.20) / 8)\n",
    "≈ sqrt(22.44 + 12.80) / 8\n",
    "≈ sqrt(35.24) / 8\n",
    "≈ 1.67\n",
    "\n",
    "Step 5: Calculate the t-statistic.\n",
    "t = (mean(Group A) - mean(Group B)) / (pooled standard deviation * sqrt(1/n1 + 1/n2))\n",
    "= (89.2 - 86.6) / (1.67 * sqrt(1/5 + 1/5))\n",
    "≈ 2.6 / (1.67 * sqrt(0.2 + 0.2))\n",
    "≈ 2.6 / (1.67 * sqrt(0.4))\n",
    "≈ 2.6 / (1.67 * 0.63)\n",
    "≈ 2.6 / 1.05\n",
    "≈ 2.48\n",
    "\n",
    "Step 6: Determine the degrees of freedom.\n",
    "degrees of freedom = n1 + n2 - 2 = 5 + 5 - 2 = 8\n",
    "\n",
    "Step 7: Compare the t-statistic with the critical t-value for the desired significance level and degrees of freedom. Let's assume a significance level of 0.05 (95% confidence).\n",
    "The critical t-value for a two-tailed test with 8 degrees of freedom and a significance level of 0.05 is approximately 2.306.\n",
    "\n",
    "Since the calculated t-statistic (2.48) is greater than the critical t-value (2.306), we can reject the null hypothesis. This suggests that there is a significant difference in the mean scores between Group A and Group B.\n",
    "\n",
    "In conclusion, based on the t-test, there is evidence to support that there is a significant difference in the mean scores between the two groups, implying that the teaching methods may have had an impact on the students' test performance."
   ]
  }
 ],
 "metadata": {
  "kernelspec": {
   "display_name": "Python 3 (ipykernel)",
   "language": "python",
   "name": "python3"
  },
  "language_info": {
   "codemirror_mode": {
    "name": "ipython",
    "version": 3
   },
   "file_extension": ".py",
   "mimetype": "text/x-python",
   "name": "python",
   "nbconvert_exporter": "python",
   "pygments_lexer": "ipython3",
   "version": "3.10.6"
  }
 },
 "nbformat": 4,
 "nbformat_minor": 5
}
