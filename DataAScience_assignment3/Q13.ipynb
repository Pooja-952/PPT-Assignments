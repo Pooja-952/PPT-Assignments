{
 "cells": [
  {
   "cell_type": "markdown",
   "id": "6ff7f1fc-3ed8-4ff6-9982-df1e59d8a844",
   "metadata": {},
   "source": [
    "### 13. Scenario: A survey is conducted to measure customer satisfaction with a product on a scale of 1 to 10. The data collected is as follows:\n",
    "    \n",
    "    [7, 9, 6, 8, 10, 7, 8, 9, 7, 8]\n",
    "   \n",
    "Calculate the 95% confidence interval for the population mean satisfaction score."
   ]
  },
  {
   "cell_type": "markdown",
   "id": "84a23d54-a125-4a65-8a53-dc0a76613e85",
   "metadata": {},
   "source": [
    "### To calculate the 95% confidence interval for the population mean satisfaction score, we can use the provided sample data and apply the formula. The confidence interval provides a range of values within which we can estimate the true population mean with a certain level of confidence.\n",
    "\n",
    "The data collected for customer satisfaction scores is as follows: [7, 9, 6, 8, 10, 7, 8, 9, 7, 8]\n",
    "\n",
    "Let's calculate the 95% confidence interval using the following steps:\n",
    "\n",
    "Step 1: Calculate the sample mean (x̄) and the sample standard deviation (s).\n",
    "x̄ = (7 + 9 + 6 + 8 + 10 + 7 + 8 + 9 + 7 + 8) / 10 = 79 / 10 = 7.9\n",
    "s = sqrt(((7 - 7.9)^2 + (9 - 7.9)^2 + (6 - 7.9)^2 + (8 - 7.9)^2 + (10 - 7.9)^2 + (7 - 7.9)^2 + (8 - 7.9)^2 + (9 - 7.9)^2 + (7 - 7.9)^2 + (8 - 7.9)^2) / (10 - 1))\n",
    "= sqrt((0.81 + 1.21 + 3.61 + 0.01 + 4.41 + 0.81 + 0.01 + 1.21 + 0.81 + 0.01) / 9)\n",
    "= sqrt(13.09 / 9)\n",
    "≈ sqrt(1.454)\n",
    "≈ 1.205\n",
    "\n",
    "Step 2: Determine the critical value for a 95% confidence level. Since we have a relatively small sample size (n = 10), we can use the t-distribution. For a 95% confidence level and 9 degrees of freedom (n - 1), the critical t-value is approximately 2.262.\n",
    "\n",
    "Step 3: Calculate the standard error of the mean (SE).\n",
    "SE = s / sqrt(n)\n",
    "= 1.205 / sqrt(10)\n",
    "≈ 0.381\n",
    "\n",
    "Step 4: Calculate the margin of error (ME).\n",
    "ME = critical t-value * SE\n",
    "= 2.262 * 0.381\n",
    "≈ 0.863\n",
    "\n",
    "Step 5: Calculate the lower and upper bounds of the confidence interval.\n",
    "Lower bound = x̄ - ME\n",
    "= 7.9 - 0.863\n",
    "≈ 7.037\n",
    "Upper bound = x̄ + ME\n",
    "= 7.9 + 0.863\n",
    "≈ 8.763\n",
    "\n",
    "Therefore, the 95% confidence interval for the population mean satisfaction score is approximately 7.037 to 8.763. This means that we can be 95% confident that the true "
   ]
  },
  {
   "cell_type": "code",
   "execution_count": null,
   "id": "deedb9f9-b71c-4766-a8e4-0b44a97c5291",
   "metadata": {},
   "outputs": [],
   "source": []
  }
 ],
 "metadata": {
  "kernelspec": {
   "display_name": "Python 3 (ipykernel)",
   "language": "python",
   "name": "python3"
  },
  "language_info": {
   "codemirror_mode": {
    "name": "ipython",
    "version": 3
   },
   "file_extension": ".py",
   "mimetype": "text/x-python",
   "name": "python",
   "nbconvert_exporter": "python",
   "pygments_lexer": "ipython3",
   "version": "3.10.6"
  }
 },
 "nbformat": 4,
 "nbformat_minor": 5
}
