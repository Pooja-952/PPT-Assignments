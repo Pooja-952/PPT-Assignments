{
 "cells": [
  {
   "cell_type": "markdown",
   "id": "dc476af0-ff36-43ed-ba8a-51489aab85d7",
   "metadata": {},
   "source": [
    "### 15. Scenario: A study is conducted to compare the preferences of two groups of participants. The preferences are measured on a Likert scale from 1 to 5. The data collected is as follows:\n",
    "\n",
    "Group A: [4, 3, 5, 2, 4]\n",
    "\n",
    "Group B: [3, 2, 4, 3, 3]\n",
    "\n",
    "Perform a Mann-Whitney U test to determine if there is a significant difference in the median preferences between the two groups."
   ]
  },
  {
   "cell_type": "markdown",
   "id": "a93dc6bf-5aaf-4099-88f8-9a7643366707",
   "metadata": {},
   "source": [
    "### To determine if there is a significant difference in the median preferences between two groups, we can perform a Mann-Whitney U test using the provided data. The Mann-Whitney U test is a non-parametric test that compares the medians of two independent samples.\n",
    "\n",
    "The preferences of the two groups of participants are as follows:\n",
    "Group A: [4, 3, 5, 2, 4]\n",
    "Group B: [3, 2, 4, 3, 3]\n",
    "\n",
    "Let's perform the Mann-Whitney U test using the following steps:\n",
    "\n",
    "Step 1: Combine the data from both groups and rank the observations in ascending order. Assign ranks based on the position of each observation in the combined dataset, with the smallest value getting rank 1.\n",
    "\n",
    "Combined dataset: [4, 3, 5, 2, 4, 3, 2, 4, 3, 3]\n",
    "Ranked dataset: [6, 2.5, 10, 1, 6, 2.5, 1, 6, 2.5, 2.5]\n",
    "\n",
    "Step 2: Calculate the sum of ranks for each group.\n",
    "Sum of ranks for Group A = 6 + 2.5 + 10 + 1 + 6 = 25.5\n",
    "Sum of ranks for Group B = 2.5 + 1 + 6 + 2.5 + 2.5 = 15\n",
    "\n",
    "Step 3: Calculate the U statistic for each group.\n",
    "U statistic for Group A = n1 * n2 + (n1 * (n1 + 1)) / 2 - Sum of ranks for Group A\n",
    "= 5 * 5 + (5 * (5 + 1)) / 2 - 25.5\n",
    "= 25 + 15 - 25.5\n",
    "= 14.5\n",
    "U statistic for Group B = n1 * n2 + (n2 * (n2 + 1)) / 2 - Sum of ranks for Group B\n",
    "= 5 * 5 + (5 * (5 + 1)) / 2 - 15\n",
    "= 25 + 15 - 15\n",
    "= 25\n",
    "\n",
    "Step 4: Determine the smaller U statistic.\n",
    "Smaller U statistic = min(U statistic for Group A, U statistic for Group B)\n",
    "= min(14.5, 25)\n",
    "= 14.5\n",
    "\n",
    "Step 5: Calculate the expected value of U (mean of U) under the null hypothesis.\n",
    "Expected value of U = (n1 * n2) / 2\n",
    "= (5 * 5) / 2\n",
    "= 12.5\n",
    "\n",
    "Step 6: Calculate the standard deviation of U (sigma_U) under the null hypothesis.\n",
    "Standard deviation of U = sqrt((n1 * n2 * (n1 + n2 + 1)) / 12)\n",
    "= sqrt((5 * 5 * (5 + 5 + 1)) / 12)\n",
    "= sqrt(125 / 12)\n",
    "≈ 3.08\n",
    "\n",
    "Step 7: Calculate the Z statistic.\n",
    "Z statistic = (Smaller U statistic - Expected value of U) / Standard deviation of U\n",
    "= (14.5 - 12.5) / 3.08\n",
    "≈ 0.65\n",
    "\n",
    "Step 8: Determine the critical Z value for the desired significance level. Let's assume a significance level of 0.05 (95% confidence). The critical Z value for a two-tailed test at a significance level of 0.05 is approximately ±1.96.\n",
    "\n",
    "Step 9: Compare the absolute value of the Z statistic (|Z|) with the critical Z value to make a decision.\n",
    "|Z| = |0.65| ≈ 0.65\n",
    "Since |Z| (0.65) is smaller than the critical Z value (1.96), we fail to reject the null hypothesis.\n",
    "\n",
    "Therefore, based on the Mann-Whitney U test, there is not enough evidence to conclude that there is a significant difference in the median preferences between the two groups at a 5% significance level."
   ]
  },
  {
   "cell_type": "code",
   "execution_count": null,
   "id": "1d7d98b8-40d6-40f4-b4dd-b103cde733a3",
   "metadata": {},
   "outputs": [],
   "source": []
  }
 ],
 "metadata": {
  "kernelspec": {
   "display_name": "Python 3 (ipykernel)",
   "language": "python",
   "name": "python3"
  },
  "language_info": {
   "codemirror_mode": {
    "name": "ipython",
    "version": 3
   },
   "file_extension": ".py",
   "mimetype": "text/x-python",
   "name": "python",
   "nbconvert_exporter": "python",
   "pygments_lexer": "ipython3",
   "version": "3.10.6"
  }
 },
 "nbformat": 4,
 "nbformat_minor": 5
}
