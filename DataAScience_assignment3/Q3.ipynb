{
 "cells": [
  {
   "cell_type": "markdown",
   "id": "a703e66c-4681-4919-bd60-edcc97b97823",
   "metadata": {},
   "source": [
    "### 3. Scenario: A company wants to compare the salaries of two departments. The salary data for Department A and Department B are as follows:\n",
    "   \n",
    "    Department A: [5000, 6000, 5500, 7000]\n",
    "   \n",
    "Department B: [4500, 5500, 5800, 6000, 5200]\n",
    "   \n",
    "    Calculate the median salary for each department.\n"
   ]
  },
  {
   "cell_type": "markdown",
   "id": "4941582b-b721-4433-bb71-f08ec481a945",
   "metadata": {},
   "source": [
    "### To calculate the median salary for each department, we need to find the middle value in the sorted list of salaries. If the number of salaries is odd, the median is the middle value. If the number of salaries is even, the median is the average of the two middle values.\n",
    "\n",
    "The salary data for Department A is: [5000, 6000, 5500, 7000]\n",
    "The salary data for Department B is: [4500, 5500, 5800, 6000, 5200]\n",
    "\n",
    "Let's calculate the median salary for each department:\n",
    "\n",
    "Department A:\n",
    "Step 1: Sort the salaries in ascending order: [5000, 5500, 6000, 7000]\n",
    "Step 2: As the number of salaries is even (4 salaries), the median is the average of the two middle values.\n",
    "Median salary in Department A = (5500 + 6000) / 2\n",
    "= 11500 / 2\n",
    "= 5750\n",
    "\n",
    "Therefore, the median salary in Department A is 5750.\n",
    "\n",
    "Department B:\n",
    "Step 1: Sort the salaries in ascending order: [4500, 5200, 5500, 5800, 6000]\n",
    "Step 2: As the number of salaries is odd (5 salaries), the median is the middle value.\n",
    "Median salary in Department B = 5500\n",
    "\n",
    "Thus, the median salary in Department B is 5500.\n",
    "\n",
    "In summary, the median salaries for each department are as follows:\n",
    "\n",
    "Department A: 5750\n",
    "Department B: 5500"
   ]
  },
  {
   "cell_type": "code",
   "execution_count": null,
   "id": "ab75363b-9fab-4bc5-adfe-0998526adc48",
   "metadata": {},
   "outputs": [],
   "source": []
  }
 ],
 "metadata": {
  "kernelspec": {
   "display_name": "Python 3 (ipykernel)",
   "language": "python",
   "name": "python3"
  },
  "language_info": {
   "codemirror_mode": {
    "name": "ipython",
    "version": 3
   },
   "file_extension": ".py",
   "mimetype": "text/x-python",
   "name": "python",
   "nbconvert_exporter": "python",
   "pygments_lexer": "ipython3",
   "version": "3.10.6"
  }
 },
 "nbformat": 4,
 "nbformat_minor": 5
}
