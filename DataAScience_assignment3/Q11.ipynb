{
 "cells": [
  {
   "cell_type": "markdown",
   "id": "d5ba2c21-e489-4f1a-91a8-f44b22a1fac1",
   "metadata": {},
   "source": [
    "### 11. Scenario: A quality control department wants to test the weight consistency of a product. The weights of a sample of products are as follows:\n",
    "    \n",
    "    [10.2, 9.8, 10.0, 10.5, 10.3, 10.1]\n",
    "   \n",
    "Perform a hypothesis test to determine if the mean weight differs significantly from 10 grams."
   ]
  },
  {
   "cell_type": "markdown",
   "id": "121bc45f-41a7-4145-8062-45a35aa67960",
   "metadata": {},
   "source": [
    "### To determine if the mean weight of the product differs significantly from 10 grams, we can perform a hypothesis test using the provided sample data. The null hypothesis (H0) assumes that the mean weight is equal to 10 grams, while the alternative hypothesis (H1) assumes that the mean weight is different from 10 grams.\n",
    "\n",
    "The weights of the sample of products are as follows:\n",
    "[10.2, 9.8, 10.0, 10.5, 10.3, 10.1]\n",
    "\n",
    "Let's perform the hypothesis test using the following steps:\n",
    "\n",
    "Step 1: Set up the hypotheses:\n",
    "Null Hypothesis (H0): The mean weight is equal to 10 grams.\n",
    "Alternative Hypothesis (H1): The mean weight is different from 10 grams.\n",
    "\n",
    "Step 2: Choose the significance level (α). Let's assume a significance level of 0.05, corresponding to a 95% confidence level.\n",
    "\n",
    "Step 3: Calculate the sample mean (x̄) and the sample standard deviation (s).\n",
    "x̄ = (10.2 + 9.8 + 10.0 + 10.5 + 10.3 + 10.1) / 6 = 60.9 / 6 = 10.15\n",
    "s = sqrt(((10.2 - 10.15)^2 + (9.8 - 10.15)^2 + (10.0 - 10.15)^2 + (10.5 - 10.15)^2 + (10.3 - 10.15)^2 + (10.1 - 10.15)^2) / (6 - 1))\n",
    "= sqrt((0.0225 + 0.0225 + 0.0025 + 0.0325 + 0.015 + 0.0025) / 5)\n",
    "= sqrt(0.0975 / 5)\n",
    "≈ sqrt(0.0195)\n",
    "≈ 0.139\n",
    "\n",
    "Step 4: Calculate the test statistic (t).\n",
    "t = (x̄ - μ) / (s / sqrt(n))\n",
    "= (10.15 - 10) / (0.139 / sqrt(6))\n",
    "≈ 0.15 / (0.139 / sqrt(6))\n",
    "≈ 1.08\n",
    "\n",
    "Step 5: Determine the degrees of freedom (df). In this case, df = n - 1 = 6 - 1 = 5.\n",
    "\n",
    "Step 6: Determine the critical t-values for a two-tailed test at the chosen significance level (α = 0.05) and degrees of freedom (df = 5).\n",
    "The critical t-values are approximately ±2.571.\n",
    "\n",
    "Step 7: Compare the absolute value of the test statistic (|t|) with the critical t-value to make a decision.\n",
    "|t| = |1.08| ≈ 1.08\n",
    "Since |t| (1.08) is smaller than the critical t-value (2.571), we fail to reject the null hypothesis.\n",
    "\n",
    "Therefore, based on the hypothesis test, there is not enough evidence to conclude that the mean weight differs significantly from 10 grams at a 5% significance level."
   ]
  },
  {
   "cell_type": "code",
   "execution_count": null,
   "id": "6a35c99d-c0fb-41d8-b168-b442f4bd4a90",
   "metadata": {},
   "outputs": [],
   "source": []
  }
 ],
 "metadata": {
  "kernelspec": {
   "display_name": "Python 3 (ipykernel)",
   "language": "python",
   "name": "python3"
  },
  "language_info": {
   "codemirror_mode": {
    "name": "ipython",
    "version": 3
   },
   "file_extension": ".py",
   "mimetype": "text/x-python",
   "name": "python",
   "nbconvert_exporter": "python",
   "pygments_lexer": "ipython3",
   "version": "3.10.6"
  }
 },
 "nbformat": 4,
 "nbformat_minor": 5
}
