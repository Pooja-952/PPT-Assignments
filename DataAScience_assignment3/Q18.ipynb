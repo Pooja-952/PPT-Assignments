{
 "cells": [
  {
   "cell_type": "markdown",
   "id": "5122cb69-ed07-4fad-a990-03eb6f0a326d",
   "metadata": {},
   "source": [
    "###\n",
    "18. Scenario: A company wants to analyze the effect of price on sales. The data collected is as follows:\n",
    "\n",
    "    Price (in dollars): [10, 15, 12, 8, 14]\n",
    "    \n",
    "    Sales: [100, 80, 90, 110, 95]\n",
    "    \n",
    "    Perform a simple linear regression to predict sales based on price."
   ]
  },
  {
   "cell_type": "markdown",
   "id": "a5ce8f93-3165-46fb-a390-32c8183da7f1",
   "metadata": {},
   "source": [
    "### To perform a simple linear regression to predict sales based on price, we can use the provided data and apply the linear regression analysis. Linear regression helps determine the relationship between two variables and enables us to make predictions based on the values of one variable (independent variable) for a given value of the other variable (dependent variable).\n",
    "\n",
    "The data collected is as follows:\n",
    "Price (in dollars): [10, 15, 12, 8, 14]\n",
    "Sales: [100, 80, 90, 110, 95]\n",
    "\n",
    "Let's perform the simple linear regression using the following steps:\n",
    "\n",
    "Step 1: Calculate the means of the price and sales data.\n",
    "mean(Price) = (10 + 15 + 12 + 8 + 14) / 5 = 59 / 5 = 11.8\n",
    "mean(Sales) = (100 + 80 + 90 + 110 + 95) / 5 = 475 / 5 = 95\n",
    "\n",
    "Step 2: Calculate the deviations from the means for both variables.\n",
    "deviation(Price) = [10 - 11.8, 15 - 11.8, 12 - 11.8, 8 - 11.8, 14 - 11.8] = [-1.8, 3.2, 0.2, -3.8, 2.2]\n",
    "deviation(Sales) = [100 - 95, 80 - 95, 90 - 95, 110 - 95, 95 - 95] = [5, -15, -5, 15, 0]\n",
    "\n",
    "Step 3: Calculate the sum of the products of the deviations.\n",
    "sum_of_products = (-1.8 * 5) + (3.2 * -15) + (0.2 * -5) + (-3.8 * 15) + (2.2 * 0) = -9 + (-48) + (-1) + (-57) + 0 = -115\n",
    "\n",
    "Step 4: Calculate the sum of the squared deviations for both variables.\n",
    "sum_of_squared_deviations(Price) = (-1.8)^2 + (3.2)^2 + (0.2)^2 + (-3.8)^2 + (2.2)^2 = 3.24 + 10.24 + 0.04 + 14.44 + 4.84 = 32.8\n",
    "sum_of_squared_deviations(Sales) = (5)^2 + (-15)^2 + (-5)^2 + (15)^2 + (0)^2 = 25 + 225 + 25 + 225 + 0 = 500\n",
    "\n",
    "Step 5: Calculate the slope (b):\n",
    "b = sum_of_products / sum_of_squared_deviations(Price)\n",
    "= -115 / 32.8\n",
    "≈ -3.50\n",
    "\n",
    "Step 6: Calculate the intercept (a):\n",
    "a = mean(Sales) - b * mean(Price)\n",
    "= 95 - (-3.50 * 11.8)\n",
    "= 95 + 41.30\n",
    "= 136.30\n",
    "\n",
    "Step 7: Write the regression equation:\n",
    "Sales = 136.30 - 3.50 * Price\n",
    "\n",
    "Therefore, the regression equation to predict sales based on price is:\n",
    "Sales = 136.30 - 3.50 * Price\n",
    "\n",
    "This equation allows us to estimate the sales value for a given price. For example, if the price is $20, we can predict the sales to be:\n",
    "Sales = 136.30 - 3.50 * 20 = 136.30 - 70 = 66.30."
   ]
  },
  {
   "cell_type": "code",
   "execution_count": null,
   "id": "2e295354-9f2b-4c6d-a411-896679cae779",
   "metadata": {},
   "outputs": [],
   "source": []
  }
 ],
 "metadata": {
  "kernelspec": {
   "display_name": "Python 3 (ipykernel)",
   "language": "python",
   "name": "python3"
  },
  "language_info": {
   "codemirror_mode": {
    "name": "ipython",
    "version": 3
   },
   "file_extension": ".py",
   "mimetype": "text/x-python",
   "name": "python",
   "nbconvert_exporter": "python",
   "pygments_lexer": "ipython3",
   "version": "3.10.6"
  }
 },
 "nbformat": 4,
 "nbformat_minor": 5
}
