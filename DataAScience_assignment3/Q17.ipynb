{
 "cells": [
  {
   "cell_type": "markdown",
   "id": "cbfa1b62-b8dd-4f5c-b138-fdce194dca09",
   "metadata": {},
   "source": [
    "### \n",
    "17. Scenario: A study is conducted to compare the performance of three different machine learning algorithms. The accuracy scores for each algorithm are as follows:\n",
    "    \n",
    "    Algorithm A: [0.85, 0.80, 0.82, 0.87, 0.83]\n",
    "    \n",
    "    Algorithm B: [0.78, 0.82, 0.84, 0.80, 0.79]\n",
    "    \n",
    "    Algorithm C: [0.90, 0.88, 0.89, 0.86, 0.87]\n",
    "    \n",
    "    Perform a Kruskal-Wallis test to determine if there is a significant difference in the median accuracy scores between the algorithms."
   ]
  },
  {
   "cell_type": "markdown",
   "id": "9ba6bce4-ae67-4e73-b2fd-5ca5b8a02c2e",
   "metadata": {},
   "source": [
    "### To determine if there is a significant difference in the median accuracy scores between three different machine learning algorithms, we can perform a Kruskal-Wallis test using the provided data. The Kruskal-Wallis test is a non-parametric test that compares the medians of multiple independent samples.\n",
    "\n",
    "The accuracy scores for each algorithm are as follows:\n",
    "Algorithm A: [0.85, 0.80, 0.82, 0.87, 0.83]\n",
    "Algorithm B: [0.78, 0.82, 0.84, 0.80, 0.79]\n",
    "Algorithm C: [0.90, 0.88, 0.89, 0.86, 0.87]\n",
    "\n",
    "Let's perform the Kruskal-Wallis test using the following steps:\n",
    "\n",
    "Step 1: Combine the data from all algorithms and rank the observations in ascending order. Assign ranks based on the position of each observation in the combined dataset, with the smallest value getting rank 1.\n",
    "\n",
    "Combined dataset: [0.85, 0.80, 0.82, 0.87, 0.83, 0.78, 0.82, 0.84, 0.80, 0.79, 0.90, 0.88, 0.89, 0.86, 0.87]\n",
    "Ranked dataset: [11, 6, 8, 14, 9, 2, 8, 10, 6, 4, 15, 12, 13, 7, 9]\n",
    "\n",
    "Step 2: Calculate the sum of ranks for each algorithm.\n",
    "Sum of ranks for Algorithm A = 11 + 6 + 8 + 14 + 9 = 48\n",
    "Sum of ranks for Algorithm B = 2 + 8 + 10 + 6 + 4 = 30\n",
    "Sum of ranks for Algorithm C = 15 + 12 + 13 + 7 + 9 = 56\n",
    "\n",
    "Step 3: Calculate the number of observations in each algorithm.\n",
    "Number of observations for Algorithm A = 5\n",
    "Number of observations for Algorithm B = 5\n",
    "Number of observations for Algorithm C = 5\n",
    "\n",
    "Step 4: Calculate the Kruskal-Wallis H statistic.\n",
    "H = (12 / (n * (n + 1))) * Σ ((Ri - (n + 1) / 2)^2 / ni)\n",
    "= (12 / (5 * (5 + 1))) * (((48 - (5 + 1) / 2)^2 / 5) + (((30 - (5 + 1) / 2)^2 / 5) + (((56 - (5 + 1) / 2)^2 / 5)\n",
    "= (2 / (5 * 6)) * (((48 - 3)^2 / 5) + (((30 - 3)^2 / 5) + (((56 - 3)^2 / 5)\n",
    "= (2 / 30) * ((45^2 / 5) + (27^2 / 5) + (53^2 / 5))\n",
    "= (2 / 30) * (2025 + 729 + 2809)\n",
    "= (2 / 30) * 5563\n",
    "≈ 370.87\n",
    "\n",
    "Step 5: Determine the degrees of freedom (df). In this case, df = number of groups - 1 = 3 - 1 = 2.\n",
    "\n",
    "Step 6: Determine the critical chi-square value for the desired significance level. Let's assume a significance level of 0.05 (95% confidence). The critical chi-square value for df = 2 and a significance level of 0.05 is approximately 5.991.\n",
    "\n",
    "Step 7: Compare the Kruskal-Wallis H statistic with the critical chi-square value to make a decision.\n",
    "The Kruskal-Wallis H statistic (370.87) is greater than the critical chi-square value (5.991). Therefore, we reject the null hypothesis.\n",
    "\n",
    "Therefore, based on the Kruskal-Wallis test, there is a significant difference in the median accuracy scores between the three machine learning algorithms at a 5% significance level."
   ]
  },
  {
   "cell_type": "code",
   "execution_count": null,
   "id": "97201c83-18a5-40bc-b4c1-7b9a5b9b7ec8",
   "metadata": {},
   "outputs": [],
   "source": []
  }
 ],
 "metadata": {
  "kernelspec": {
   "display_name": "Python 3 (ipykernel)",
   "language": "python",
   "name": "python3"
  },
  "language_info": {
   "codemirror_mode": {
    "name": "ipython",
    "version": 3
   },
   "file_extension": ".py",
   "mimetype": "text/x-python",
   "name": "python",
   "nbconvert_exporter": "python",
   "pygments_lexer": "ipython3",
   "version": "3.10.6"
  }
 },
 "nbformat": 4,
 "nbformat_minor": 5
}
