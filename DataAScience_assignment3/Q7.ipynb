{
 "cells": [
  {
   "cell_type": "markdown",
   "id": "a370b093-c9a9-4ad8-a007-c8180c46384c",
   "metadata": {},
   "source": [
    "### 7. Scenario: A survey is conducted to measure the heights of a group of people. The data collected is as follows:\n",
    "   \n",
    "    [160, 170, 165, 155, 175, 180, 170]\n",
    "    \n",
    "   Calculate the standard deviation of the heights."
   ]
  },
  {
   "cell_type": "markdown",
   "id": "a4a8b961-68f4-48e2-818d-d9fc34e3610e",
   "metadata": {},
   "source": [
    "### To calculate the standard deviation of the heights, we can use the provided data and apply the formula for standard deviation. The standard deviation measures the spread or variability of a dataset.\n",
    "\n",
    "The data collected for the heights of a group of people is as follows: [160, 170, 165, 155, 175, 180, 170]\n",
    "\n",
    "Let's calculate the standard deviation using the following steps:\n",
    "\n",
    "Step 1: Calculate the mean of the heights.\n",
    "mean(heights) = (160 + 170 + 165 + 155 + 175 + 180 + 170) / 7 = 1175 / 7 ≈ 167.86\n",
    "\n",
    "Step 2: Calculate the deviations from the mean for each height.\n",
    "deviation(heights) = [160 - 167.86, 170 - 167.86, 165 - 167.86, 155 - 167.86, 175 - 167.86, 180 - 167.86, 170 - 167.86]\n",
    "= [-7.86, 2.14, -2.86, -12.86, 7.14, 12.14, 2.14]\n",
    "\n",
    "Step 3: Calculate the squared deviations.\n",
    "squared_deviations = [(-7.86)^2, (2.14)^2, (-2.86)^2, (-12.86)^2, (7.14)^2, (12.14)^2, (2.14)^2]\n",
    "= [61.67, 4.58, 8.21, 165.31, 51.12, 147.66, 4.58]\n",
    "\n",
    "Step 4: Calculate the variance.\n",
    "variance = sum(squared_deviations) / (number_of_heights - 1)\n",
    "= (61.67 + 4.58 + 8.21 + 165.31 + 51.12 + 147.66 + 4.58) / (7 - 1)\n",
    "= 443.13 / 6\n",
    "≈ 73.86\n",
    "\n",
    "Step 5: Calculate the standard deviation.\n",
    "standard_deviation = sqrt(variance)\n",
    "= sqrt(73.86)\n",
    "≈ 8.60\n",
    "\n",
    "Therefore, the standard deviation of the heights in the given dataset is approximately 8.60. The standard deviation indicates the average amount by which individual heights in the dataset deviate from the mean height."
   ]
  },
  {
   "cell_type": "code",
   "execution_count": null,
   "id": "4895a3db-ef68-4c3e-965a-59bd8dfa5113",
   "metadata": {},
   "outputs": [],
   "source": []
  }
 ],
 "metadata": {
  "kernelspec": {
   "display_name": "Python 3 (ipykernel)",
   "language": "python",
   "name": "python3"
  },
  "language_info": {
   "codemirror_mode": {
    "name": "ipython",
    "version": 3
   },
   "file_extension": ".py",
   "mimetype": "text/x-python",
   "name": "python",
   "nbconvert_exporter": "python",
   "pygments_lexer": "ipython3",
   "version": "3.10.6"
  }
 },
 "nbformat": 4,
 "nbformat_minor": 5
}
