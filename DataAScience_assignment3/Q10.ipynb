{
 "cells": [
  {
   "cell_type": "markdown",
   "id": "41a5f829-5d2a-42e7-81b7-d096ab685171",
   "metadata": {},
   "source": [
    "### 10. Scenario: A company wants to analyze customer feedback ratings on a scale of 1 to 10. The data collected is\n",
    "\n",
    " as follows:\n",
    "    \n",
    "    [8, 9, 7, 6, 8, 10, 9, 8, 7, 8]\n",
    "    \n",
    "    Calculate the 75th percentile of the feedback ratings."
   ]
  },
  {
   "cell_type": "markdown",
   "id": "e2b2e425-ced2-4cb9-bef1-52ec323efe06",
   "metadata": {},
   "source": [
    "### To calculate the 75th percentile of the feedback ratings, we need to find the value below which 75% of the ratings fall. This value represents the point below which three-fourths of the ratings lie.\n",
    "\n",
    "The data collected for the customer feedback ratings is as follows:\n",
    "[8, 9, 7, 6, 8, 10, 9, 8, 7, 8]\n",
    "\n",
    "Let's calculate the 75th percentile using the following steps:\n",
    "\n",
    "Step 1: Sort the ratings in ascending order: [6, 7, 7, 8, 8, 8, 8, 9, 9, 10]\n",
    "\n",
    "Step 2: Calculate the position of the 75th percentile using the formula:\n",
    "position = (percentile / 100) * (total number of ratings + 1)\n",
    "= (75 / 100) * (10 + 1)\n",
    "= 0.75 * 11\n",
    "= 8.25\n",
    "\n",
    "Step 3: Since the position is not a whole number, we'll take the average of the values at positions 8 and 9 to find the 75th percentile:\n",
    "75th percentile = (value at position 8 + value at position 9) / 2\n",
    "= (8 + 9) / 2\n",
    "= 17 / 2\n",
    "= 8.5\n",
    "\n",
    "Therefore, the 75th percentile of the feedback ratings is 8.5. This means that 75% of the ratings are equal to or less than 8.5, indicating that the majority of the ratings are relatively high."
   ]
  },
  {
   "cell_type": "code",
   "execution_count": null,
   "id": "df16e472-3977-4758-92d1-31f2afad117c",
   "metadata": {},
   "outputs": [],
   "source": []
  }
 ],
 "metadata": {
  "kernelspec": {
   "display_name": "Python 3 (ipykernel)",
   "language": "python",
   "name": "python3"
  },
  "language_info": {
   "codemirror_mode": {
    "name": "ipython",
    "version": 3
   },
   "file_extension": ".py",
   "mimetype": "text/x-python",
   "name": "python",
   "nbconvert_exporter": "python",
   "pygments_lexer": "ipython3",
   "version": "3.10.6"
  }
 },
 "nbformat": 4,
 "nbformat_minor": 5
}
