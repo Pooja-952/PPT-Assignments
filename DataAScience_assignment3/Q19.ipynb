{
 "cells": [
  {
   "cell_type": "markdown",
   "id": "0db88c04-923b-48ae-8418-5a0512f4e659",
   "metadata": {},
   "source": [
    "### \n",
    "19. Scenario: A survey is conducted to measure the satisfaction levels of customers with a new product. The data collected is as follows:\n",
    "    \n",
    "    [7, 8, 9, 6, 8, 7, 9, 7, 8, 7]\n",
    "    \n",
    "    Calculate the standard error of the mean satisfaction score."
   ]
  },
  {
   "cell_type": "markdown",
   "id": "7589e7ef-002f-4a9b-a94b-7f3e479347d4",
   "metadata": {},
   "source": [
    "### To calculate the standard error of the mean satisfaction score, we need to determine the variability or dispersion of the data. The standard error measures the average deviation of the sample means from the true population mean.\n",
    "\n",
    "The data collected for customer satisfaction levels is as follows: [7, 8, 9, 6, 8, 7, 9, 7, 8, 7].\n",
    "\n",
    "Let's calculate the standard error of the mean satisfaction score using the following steps:\n",
    "\n",
    "Step 1: Calculate the sample mean (x̄) of the satisfaction scores.\n",
    "x̄ = (7 + 8 + 9 + 6 + 8 + 7 + 9 + 7 + 8 + 7) / 10 = 76 / 10 = 7.6.\n",
    "\n",
    "Step 2: Calculate the deviation of each individual score from the sample mean.\n",
    "Deviation from the mean for each score = score - x̄.\n",
    "\n",
    "Deviation from the mean: [7 - 7.6, 8 - 7.6, 9 - 7.6, 6 - 7.6, 8 - 7.6, 7 - 7.6, 9 - 7.6, 7 - 7.6, 8 - 7.6, 7 - 7.6]\n",
    "= [-0.6, 0.4, 1.4, -1.6, 0.4, -0.6, 1.4, -0.6, 0.4, -0.6].\n",
    "\n",
    "Step 3: Calculate the sum of the squared deviations.\n",
    "Sum of squared deviations = (∑(deviation from mean)^2) / (n - 1)\n",
    "= ( (-0.6)^2 + 0.4^2 + 1.4^2 + (-1.6)^2 + 0.4^2 + (-0.6)^2 + 1.4^2 + (-0.6)^2 + 0.4^2 + (-0.6)^2) / (10 - 1)\n",
    "≈ 4.64.\n",
    "\n",
    "Step 4: Calculate the standard error of the mean (SE).\n",
    "SE = √(sum of squared deviations / n)\n",
    "= √(4.64 / 10)\n",
    "≈ √0.464\n",
    "≈ 0.68.\n",
    "\n",
    "Therefore, the standard error of the mean satisfaction score is approximately 0.68."
   ]
  },
  {
   "cell_type": "code",
   "execution_count": null,
   "id": "abaa9a5b-ca47-4331-a30b-3f07e79b3eb6",
   "metadata": {},
   "outputs": [],
   "source": []
  }
 ],
 "metadata": {
  "kernelspec": {
   "display_name": "Python 3 (ipykernel)",
   "language": "python",
   "name": "python3"
  },
  "language_info": {
   "codemirror_mode": {
    "name": "ipython",
    "version": 3
   },
   "file_extension": ".py",
   "mimetype": "text/x-python",
   "name": "python",
   "nbconvert_exporter": "python",
   "pygments_lexer": "ipython3",
   "version": "3.10.6"
  }
 },
 "nbformat": 4,
 "nbformat_minor": 5
}
