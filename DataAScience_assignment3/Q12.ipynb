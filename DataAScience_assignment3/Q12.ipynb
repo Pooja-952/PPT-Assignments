{
 "cells": [
  {
   "cell_type": "markdown",
   "id": "b10bc594-cc94-424b-9996-0f5ec85b86b2",
   "metadata": {},
   "source": [
    "### 12. Scenario: A company wants to analyze the click-through rates of two different website designs. The number of clicks for each design is as follows:\n",
    "   \n",
    "    Design A: [100, 120, 110, 90, 95]\n",
    "    \n",
    "    Design B: [80, 85, 90, 95, 100]\n",
    "    \n",
    "    Perform a chi-square test to determine if there is a significant difference in the click-through rates between the two designs."
   ]
  },
  {
   "cell_type": "markdown",
   "id": "32057237-a14e-4f02-9fc2-2ce7e0fcfd9c",
   "metadata": {},
   "source": [
    "### To determine if there is a significant difference in the click-through rates between two different website designs, we can perform a chi-square test using the provided data. The chi-square test is used to compare observed frequencies with expected frequencies and assess whether the differences are statistically significant.\n",
    "\n",
    "The number of clicks for each design is as follows:\n",
    "Design A: [100, 120, 110, 90, 95]\n",
    "Design B: [80, 85, 90, 95, 100]\n",
    "\n",
    "Let's perform the chi-square test using the following steps:\n",
    "\n",
    "Step 1: Set up the hypotheses:\n",
    "Null Hypothesis (H0): There is no significant difference in the click-through rates between the two designs.\n",
    "Alternative Hypothesis (H1): There is a significant difference in the click-through rates between the two designs.\n",
    "\n",
    "Step 2: Create a contingency table of observed frequencies:\n",
    "| Design A | Design B | Total\n",
    "Clicks | 100 | 80 | 180\n",
    "| 120 | 85 | 205\n",
    "| 110 | 90 | 200\n",
    "| 90 | 95 | 185\n",
    "| 95 | 100 | 195\n",
    "Total | 515 | 450 | 965\n",
    "\n",
    "Step 3: Calculate the expected frequencies assuming the null hypothesis (H0) is true.\n",
    "Expected frequency = (row total * column total) / grand total\n",
    "\n",
    "Expected frequency for Design A and Clicks = (180 * 515) / 965 ≈ 96.47\n",
    "Expected frequency for Design A and No Clicks = (785 * 515) / 965 ≈ 418.53\n",
    "Expected frequency for Design B and Clicks = (180 * 450) / 965 ≈ 83.61\n",
    "Expected frequency for Design B and No Clicks = (785 * 450) / 965 ≈ 366.39\n",
    "\n",
    "Step 4: Calculate the chi-square test statistic.\n",
    "chi-square = Σ ((observed frequency - expected frequency)^2) / expected frequency\n",
    "\n",
    "chi-square = ((100 - 96.47)^2 / 96.47) + ((120 - 96.47)^2 / 96.47) + ((110 - 96.47)^2 / 96.47) + ((90 - 96.47)^2 / 96.47) + ((95 - 96.47)^2 / 96.47)\n",
    "+ ((80 - 83.61)^2 / 83.61) + ((85 - 83.61)^2 / 83.61) + ((90 - 83.61)^2 / 83.61) + ((95 - 83.61)^2 / 83.61) + ((100 - 83.61)^2 / 83.61)\n",
    "\n",
    "chi-square ≈ 0.35 + 6.77 + 0.16 + 0.76 + 0.16 + 0.46 + 0.08 + 0.49 + 1.48 + 2.10\n",
    "≈ 12.41\n",
    "\n",
    "Step 5: Determine the degrees of freedom (df). In this case, df = (number of rows - 1) * (number of columns - 1) = (2 - 1) * (2 - 1) = 1.\n",
    "\n",
    "Step 6: Determine the critical chi-square value for the desired significance level. Let's assume a significance level of 0.05 (95% confidence). The critical chi-square value for df = 1 and a significance level of 0.05 is approximately 3.841.\n",
    "\n",
    "Step 7: Compare the chi-square test statistic with the critical chi-square value to make a decision.\n",
    "The chi-square test statistic (12.41) is greater than the critical chi-square value (3.841). Therefore, we reject the null hypothesis.\n",
    "\n",
    "Therefore, based on the chi-square test, there is a significant difference in the click-through rates between the two website designs at a 5% significance level."
   ]
  },
  {
   "cell_type": "code",
   "execution_count": null,
   "id": "17ba057c-e131-4aa9-b9e9-b59e04c27467",
   "metadata": {},
   "outputs": [],
   "source": []
  }
 ],
 "metadata": {
  "kernelspec": {
   "display_name": "Python 3 (ipykernel)",
   "language": "python",
   "name": "python3"
  },
  "language_info": {
   "codemirror_mode": {
    "name": "ipython",
    "version": 3
   },
   "file_extension": ".py",
   "mimetype": "text/x-python",
   "name": "python",
   "nbconvert_exporter": "python",
   "pygments_lexer": "ipython3",
   "version": "3.10.6"
  }
 },
 "nbformat": 4,
 "nbformat_minor": 5
}
