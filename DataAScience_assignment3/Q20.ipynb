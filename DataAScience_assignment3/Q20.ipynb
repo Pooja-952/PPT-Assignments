{
 "cells": [
  {
   "cell_type": "markdown",
   "id": "20e83933-723c-43e0-af18-66122b650c68",
   "metadata": {},
   "source": [
    "### \n",
    "20. Scenario: A company wants to analyze the relationship between advertising expenditure and sales. The data collected is as follows:\n",
    "    \n",
    "    Advertising Expenditure (in thousands): [10, 15, 12, 8, 14]\n",
    "    \n",
    "    Sales (in thousands): [25, 30, 28, 20, 26]\n",
    "\n",
    "    Perform a multiple regression analysis to predict sales based on advertising expenditure."
   ]
  },
  {
   "cell_type": "markdown",
   "id": "edac3dbd-9f37-407e-86f9-7c8a059b352b",
   "metadata": {},
   "source": [
    "### To perform a multiple regression analysis to predict sales based on advertising expenditure, we can use the provided data. Multiple regression allows us to examine the relationship between a dependent variable (sales) and multiple independent variables (advertising expenditure in this case).\n",
    "\n",
    "The data collected is as follows:\n",
    "Advertising Expenditure (in thousands): [10, 15, 12, 8, 14]\n",
    "Sales (in thousands): [25, 30, 28, 20, 26]\n",
    "\n",
    "Let's perform the multiple regression analysis using the following steps:\n",
    "\n",
    "Step 1: Set up the regression equation:\n",
    "Sales = β0 + β1 * Advertising Expenditure\n",
    "\n",
    "Step 2: Calculate the means of the advertising expenditure and sales data.\n",
    "mean(Advertising Expenditure) = (10 + 15 + 12 + 8 + 14) / 5 = 59 / 5 = 11.8\n",
    "mean(Sales) = (25 + 30 + 28 + 20 + 26) / 5 = 129 / 5 = 25.8\n",
    "\n",
    "Step 3: Calculate the deviations from the means for both variables.\n",
    "deviation(Advertising Expenditure) = [10 - 11.8, 15 - 11.8, 12 - 11.8, 8 - 11.8, 14 - 11.8] = [-1.8, 3.2, 0.2, -3.8, 2.2]\n",
    "deviation(Sales) = [25 - 25.8, 30 - 25.8, 28 - 25.8, 20 - 25.8, 26 - 25.8] = [-0.8, 4.2, 2.2, -5.8, 0.2]\n",
    "\n",
    "Step 4: Calculate the sum of the products of the deviations.\n",
    "sum_of_products = (-1.8 * -0.8) + (3.2 * 4.2) + (0.2 * 2.2) + (-3.8 * -5.8) + (2.2 * 0.2) = 1.44 + 13.44 + 0.44 + 22.04 + 0.44 = 37.8\n",
    "\n",
    "Step 5: Calculate the sum of the squared deviations for both variables.\n",
    "sum_of_squared_deviations(Advertising Expenditure) = (-1.8)^2 + (3.2)^2 + (0.2)^2 + (-3.8)^2 + (2.2)^2 = 3.24 + 10.24 + 0.04 + 14.44 + 4.84 = 32.8\n",
    "sum_of_squared_deviations(Sales) = (-0.8)^2 + (4.2)^2 + (2.2)^2 + (-5.8)^2 + (0.2)^2 = 0.64 + 17.64 + 4.84 + 33.64 + 0.04 = 57.8\n",
    "\n",
    "Step 6: Calculate the slope (β1):\n",
    "β1 = sum_of_products / sum_of_squared_deviations(Advertising Expenditure)\n",
    "= 37.8 / 32.8\n",
    "≈ 1.15\n",
    "\n",
    "Step 7: Calculate the intercept (β0):\n",
    "β0 = mean(Sales) - β1 * mean(Advertising Expenditure)\n",
    "= 25.8 - 1.15 * 11.8\n",
    "= 25.8 - 13.57\n",
    "≈ 12.23\n",
    "\n",
    "Step 8: Write the regression equation:\n",
    "Sales = 12.23 + 1.15 * Advertising Expenditure\n",
    "\n",
    "Therefore, the multiple regression equation to predict sales based on advertising expenditure is:\n",
    "Sales = 12.23 + 1.15 * Advertising Expenditure\n",
    "\n",
    "This equation allows us to estimate the sales value for a given advertising expenditure. For example, if the advertising expenditure is $20,000, we can predict the sales to be:\n",
    "Sales = 12.23 + 1.15 * 20 = 12.23 + 23 = 35.23."
   ]
  },
  {
   "cell_type": "code",
   "execution_count": null,
   "id": "1af7dd00-bc7b-440f-8895-b09d4b6476c2",
   "metadata": {},
   "outputs": [],
   "source": []
  }
 ],
 "metadata": {
  "kernelspec": {
   "display_name": "Python 3 (ipykernel)",
   "language": "python",
   "name": "python3"
  },
  "language_info": {
   "codemirror_mode": {
    "name": "ipython",
    "version": 3
   },
   "file_extension": ".py",
   "mimetype": "text/x-python",
   "name": "python",
   "nbconvert_exporter": "python",
   "pygments_lexer": "ipython3",
   "version": "3.10.6"
  }
 },
 "nbformat": 4,
 "nbformat_minor": 5
}
