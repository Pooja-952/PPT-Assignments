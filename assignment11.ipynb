{
 "cells": [
  {
   "cell_type": "markdown",
   "id": "de404733-39b7-489b-91eb-096bb4acfd9b",
   "metadata": {},
   "source": [
    "### Q1. Given a non-negative integer `x`, return *the square root of* `x` *rounded down to the nearest integer*. The returned integer should be **non-negative** as well. You **must not use** any built-in exponent function or operator.\n",
    "- For example, do not use `pow(x, 0.5)` in c++ or `x ** 0.5` in python."
   ]
  },
  {
   "cell_type": "code",
   "execution_count": 1,
   "id": "5b5960bb-f46b-40b6-8ba2-9f4ad09f20cd",
   "metadata": {},
   "outputs": [],
   "source": [
    "def sqrt(x):\n",
    "    if x == 1 or x == 1:\n",
    "        return x\n",
    "    left = 1\n",
    "    right = x\n",
    "    \n",
    "    while  left <= right:\n",
    "        mid = (left + right) // 2\n",
    "        square = mid * mid\n",
    "        \n",
    "        if square == x:\n",
    "            return mid\n",
    "        elif square > x:\n",
    "            right = mid - 1\n",
    "        else:\n",
    "            left = mid + 1\n",
    "            \n",
    "    return right         \n",
    "    "
   ]
  },
  {
   "cell_type": "code",
   "execution_count": 3,
   "id": "183dc401-a073-4b0e-8147-61f8badeee31",
   "metadata": {},
   "outputs": [
    {
     "name": "stdin",
     "output_type": "stream",
     "text": [
      "Enter a non-negative integer:  4\n"
     ]
    },
    {
     "name": "stdout",
     "output_type": "stream",
     "text": [
      "Square root of 4 is 2\n"
     ]
    }
   ],
   "source": [
    "num = int(input(\"Enter a non-negative integer: \"))\n",
    "result = sqrt(num)\n",
    "print(\"Square root of\", num, \"is\", result)"
   ]
  },
  {
   "cell_type": "markdown",
   "id": "888c3ad6-459c-4cf3-8146-1036f94b10bd",
   "metadata": {},
   "source": [
    "### Q2. A peak element is an element that is strictly greater than its neighbors. Given a **0-indexed** integer array `nums`, find a peak element, and return its index. If the array contains multiple peaks, return the index to **any of the peaks**. You may imagine that `nums[-1] = nums[n] = -∞`. In other words, an element is always considered to be strictly greater than a neighbor that is outside the array. You must write an algorithm that runs in `O(log n)` time."
   ]
  },
  {
   "cell_type": "code",
   "execution_count": 1,
   "id": "e77a3d9b-2abc-40d2-b233-85b56e7ea528",
   "metadata": {},
   "outputs": [],
   "source": [
    "def findPeakElements(nums):\n",
    "    left = 0\n",
    "    right = len(nums) - 1\n",
    "    \n",
    "    while left < right:\n",
    "        mid = (left + right) // 2\n",
    "        \n",
    "        if nums[mid] > nums[mid + 1]:\n",
    "            right = mid\n",
    "        else:\n",
    "            left = mid + 1\n",
    "    \n",
    "    return left"
   ]
  },
  {
   "cell_type": "code",
   "execution_count": 2,
   "id": "7d7b240c-d48d-4100-8f24-8d9769b8b337",
   "metadata": {},
   "outputs": [
    {
     "name": "stdout",
     "output_type": "stream",
     "text": [
      "2\n"
     ]
    }
   ],
   "source": [
    "nums = [1,2,3,1]\n",
    "result = findPeakElements(nums)\n",
    "print(result)"
   ]
  },
  {
   "cell_type": "markdown",
   "id": "434ee4b2-8f67-4318-bda2-9a9fcb09b05f",
   "metadata": {},
   "source": [
    "### Q3. Given an array nums containing n distinct numbers in the range [0, n], return the only number in the range that is missing from the array."
   ]
  },
  {
   "cell_type": "code",
   "execution_count": 3,
   "id": "0dfee6cb-b5cb-428d-a056-acee94963045",
   "metadata": {},
   "outputs": [],
   "source": [
    "def missingNumber(nums):\n",
    "    n = len(nums)\n",
    "    missing = n\n",
    "    \n",
    "    for i in range(n):\n",
    "        missing ^= i ^ nums[i]\n",
    "        \n",
    "    return missing    "
   ]
  },
  {
   "cell_type": "code",
   "execution_count": 4,
   "id": "529a1448-13e8-4f4d-9100-5dabcc20cd48",
   "metadata": {},
   "outputs": [
    {
     "name": "stdout",
     "output_type": "stream",
     "text": [
      "2\n"
     ]
    }
   ],
   "source": [
    "nums = [3,0,1]\n",
    "result = missingNumber(nums)\n",
    "print(result)"
   ]
  },
  {
   "cell_type": "code",
   "execution_count": 5,
   "id": "3e15d51b-8bc3-4016-849b-54b825a50c50",
   "metadata": {},
   "outputs": [
    {
     "name": "stdout",
     "output_type": "stream",
     "text": [
      "8\n"
     ]
    }
   ],
   "source": [
    "nums = [9,6,4,2,3,5,7,0,1]\n",
    "result = missingNumber(nums)\n",
    "print(result)\n"
   ]
  },
  {
   "cell_type": "markdown",
   "id": "ac7b01cf-ab46-460c-97d9-e708d849172b",
   "metadata": {},
   "source": [
    "### Q4. Given an array of integers `nums` containing `n + 1` integers where each integer is in the range `[1, n]` inclusive. There is only **one repeated number** in `nums`, return *this repeated number*. You must solve the problem **without** modifying the array `nums` and uses only constant extra space."
   ]
  },
  {
   "cell_type": "code",
   "execution_count": 1,
   "id": "56b0b598-c93d-47f6-a8c2-f7fc18b002f3",
   "metadata": {},
   "outputs": [],
   "source": [
    "def repeatedNumber(nums):\n",
    "    slow = fast = nums[0]\n",
    "    \n",
    "    # Detect the cycle\n",
    "    while True:\n",
    "        slow = nums[slow]\n",
    "        fast = nums[nums[fast]]\n",
    "        if slow == fast:\n",
    "            break\n",
    "    \n",
    "    # Find the start of the cycle\n",
    "    slow = nums[0]\n",
    "    while slow != fast:\n",
    "        slow = nums[slow]\n",
    "        fast = nums[fast]\n",
    "    \n",
    "    return slow\n",
    "        "
   ]
  },
  {
   "cell_type": "code",
   "execution_count": 3,
   "id": "3397a76e-da6e-44cc-9e98-b3ab427d80aa",
   "metadata": {},
   "outputs": [
    {
     "name": "stdout",
     "output_type": "stream",
     "text": [
      "3\n"
     ]
    }
   ],
   "source": [
    "nums = [3,1,3,4,2]\n",
    "result = repeatedNumber(nums)\n",
    "print(result)"
   ]
  },
  {
   "cell_type": "markdown",
   "id": "65cbf0df-509e-4917-b80f-53a490264e94",
   "metadata": {},
   "source": [
    "### Q5. Given two integer arrays nums1 and nums2, return an array of their intersection. Each element in the result must be unique and you may return the result in any order."
   ]
  },
  {
   "cell_type": "code",
   "execution_count": 4,
   "id": "b04da0ca-a2d0-44eb-98e5-a0702cb46d4f",
   "metadata": {},
   "outputs": [],
   "source": [
    "def intersection(nums1, nums2):\n",
    "    set1 = set(nums1)\n",
    "    result = []\n",
    "    \n",
    "    for num in nums2:\n",
    "        if num in set1:\n",
    "            result.append(num)\n",
    "            set1.remove(num)\n",
    "            \n",
    "    return result\n",
    "\n",
    "    "
   ]
  },
  {
   "cell_type": "code",
   "execution_count": 8,
   "id": "6ffde397-c000-4894-8271-7593ded2d30b",
   "metadata": {},
   "outputs": [
    {
     "name": "stdout",
     "output_type": "stream",
     "text": [
      "[2]\n"
     ]
    }
   ],
   "source": [
    "nums1 = [1,2,2,1]\n",
    "nums2 = [2,2]\n",
    "print(intersection(nums1, nums2))"
   ]
  },
  {
   "cell_type": "raw",
   "id": "afc1f30d-f7ce-43cc-8fc6-f7d503cb366e",
   "metadata": {},
   "source": [
    "### Q6. Suppose an array of length `n` sorted in ascending order is **rotated** between `1` and `n` times. For example, the array `nums = [0,1,2,4,5,6,7]` might become:\n",
    "\n",
    "- `[4,5,6,7,0,1,2]` if it was rotated `4` times.\n",
    "- `[0,1,2,4,5,6,7]` if it was rotated `7` times.\n",
    "Notice that **rotating** an array `[a[0], a[1], a[2], ..., a[n-1]]` 1 time results in the array `[a[n-1], a[0], a[1], a[2], ..., a[n-2]]`.\n",
    "Given the sorted rotated array `nums` of **unique** elements, return *the minimum element of this array*.\n",
    "You must write an algorithm that runs in `O(log n) time.`"
   ]
  },
  {
   "cell_type": "code",
   "execution_count": 1,
   "id": "1fc666f1-54ce-4dde-b199-69ae55ff262f",
   "metadata": {},
   "outputs": [],
   "source": [
    "def minimumElement(nums):\n",
    "    left = 0\n",
    "    right = len(nums) - 1\n",
    "    \n",
    "    if nums[left] < nums[right]:\n",
    "            return nums[left]\n",
    "    \n",
    "    while left < right:\n",
    "        mid = left + (right - left) // 2\n",
    "        \n",
    "        if nums[mid] > nums[mid + 1]:\n",
    "            return nums[mid + 1]\n",
    "        \n",
    "        if nums[mid] >= nums[left]:\n",
    "            left = mid + 1\n",
    "        else:\n",
    "            right = mid\n",
    "            \n",
    "    return nums[left]        \n",
    "        \n",
    "            "
   ]
  },
  {
   "cell_type": "code",
   "execution_count": 2,
   "id": "69fe0ab8-f907-4fd4-bb1f-013acfad3b69",
   "metadata": {},
   "outputs": [
    {
     "name": "stdout",
     "output_type": "stream",
     "text": [
      "1\n"
     ]
    }
   ],
   "source": [
    "nums = [3,4,5,1,2]\n",
    "print(minimumElement(nums))"
   ]
  },
  {
   "cell_type": "markdown",
   "id": "9b8edc23-7df7-4dea-829d-7e1b9b23d70d",
   "metadata": {},
   "source": [
    "### Q7. Given an array of integers `nums` sorted in non-decreasing order, find the starting and ending position of a given `target` value. If `target` is not found in the array, return `[-1, -1]`.\n",
    "You must write an algorithm with `O(log n)` runtime complexity."
   ]
  },
  {
   "cell_type": "code",
   "execution_count": 3,
   "id": "f1a580aa-0f78-4d54-b62c-260bb92d8204",
   "metadata": {},
   "outputs": [],
   "source": [
    "def arrayPosition(nums, target):\n",
    "    start= end= -1\n",
    "    left = 0\n",
    "    right = len(nums) - 1\n",
    "    \n",
    "    while left <= right:\n",
    "        mid = (left + right) // 2\n",
    "        \n",
    "        if nums[mid] == target:\n",
    "            start = mid\n",
    "            right = mid - 1\n",
    "            \n",
    "        if nums[mid] < target:\n",
    "            left = mid + 1\n",
    "            \n",
    "        if nums[mid] > target:\n",
    "            right = mid - 1\n",
    "            \n",
    "    left = 0\n",
    "    right = len(nums) - 1\n",
    "    \n",
    "    while left <= right:\n",
    "        mid = left + (right - left) // 2\n",
    "        if nums[mid] == target:\n",
    "            end = mid\n",
    "            left = mid + 1\n",
    "        elif nums[mid] < target:\n",
    "            left= mid + 1\n",
    "        else:\n",
    "            rigt= mid - 1\n",
    "            \n",
    "    return [start, end]        "
   ]
  },
  {
   "cell_type": "code",
   "execution_count": null,
   "id": "176114b6-2bf7-4136-9d9b-68dc6e77b785",
   "metadata": {},
   "outputs": [],
   "source": [
    "nums = [5,7,7,8,8,10]\n",
    "target = 8\n",
    "print(arrayPosition(nums, target))"
   ]
  },
  {
   "cell_type": "markdown",
   "id": "95f9cdd6-507a-4c3c-ae6e-ac03d110d328",
   "metadata": {},
   "source": [
    "### Q8. Given two integer arrays nums1 and nums2, return an array of their intersection. Each element in the result must appear as many times as it shows in both arrays and you may return the result in any order."
   ]
  },
  {
   "cell_type": "code",
   "execution_count": 4,
   "id": "9a5dec3e-1b39-4fd3-818e-bc98410dc8ab",
   "metadata": {},
   "outputs": [],
   "source": [
    "from collections import Counter\n",
    "\n",
    "def intersect(nums1, nums2):\n",
    "    count1 = Counter(nums1)\n",
    "    count2 = Counter(nums2)\n",
    "\n",
    "    intersection = []\n",
    "    for num in count1.keys():\n",
    "        if num in count2:\n",
    "            freq = min(count1[num], count2[num])\n",
    "            intersection.extend([num] * freq)\n",
    "\n",
    "    return intersection"
   ]
  },
  {
   "cell_type": "code",
   "execution_count": 5,
   "id": "3319f2a4-4a01-421a-878d-494165669215",
   "metadata": {},
   "outputs": [
    {
     "name": "stdout",
     "output_type": "stream",
     "text": [
      "[4, 9]\n"
     ]
    }
   ],
   "source": [
    "nums1 = [4,9,5]\n",
    "nums2 = [9,4,9,8,4]\n",
    "print(intersect(nums1, nums2))"
   ]
  },
  {
   "cell_type": "code",
   "execution_count": null,
   "id": "731394ff-cb24-4072-9a3b-acf0da0ae8dc",
   "metadata": {},
   "outputs": [],
   "source": []
  }
 ],
 "metadata": {
  "kernelspec": {
   "display_name": "Python 3 (ipykernel)",
   "language": "python",
   "name": "python3"
  },
  "language_info": {
   "codemirror_mode": {
    "name": "ipython",
    "version": 3
   },
   "file_extension": ".py",
   "mimetype": "text/x-python",
   "name": "python",
   "nbconvert_exporter": "python",
   "pygments_lexer": "ipython3",
   "version": "3.10.6"
  }
 },
 "nbformat": 4,
 "nbformat_minor": 5
}
